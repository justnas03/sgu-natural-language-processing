{
 "cells": [
  {
   "cell_type": "markdown",
   "metadata": {},
   "source": [
    "<h1> Chapter 4: Practice Basic Text Processing Techniques </h1>"
   ]
  },
  {
   "cell_type": "code",
   "execution_count": 1,
   "metadata": {},
   "outputs": [],
   "source": [
    "import spacy\n",
    "import nltk\n",
    "from nltk.corpus import stopwords\n",
    "import string\n",
    "from nltk.stem import PorterStemmer\n",
    "from nltk.stem import WordNetLemmatizer"
   ]
  },
  {
   "cell_type": "markdown",
   "metadata": {},
   "source": [
    "<h1>Challenge 1: Lowercasing text</h1> <br>\n",
    "The <strong>feedback</strong> column in the dataset needs to be converted to lowercase to ensure consistency in text analysis, which can be done using the pandas library"
   ]
  },
  {
   "cell_type": "code",
   "execution_count": 6,
   "metadata": {},
   "outputs": [
    {
     "name": "stdout",
     "output_type": "stream",
     "text": [
      "0    the new telecom product offers amazing connect...\n",
      "1    the new telecom product is a game-changer! it'...\n",
      "2    i've noticed a significant improvement in call...\n",
      "3    the new product has enhanced our business oper...\n",
      "4    as a digital nomad, i rely on consistent inter...\n",
      "5    while the new product offers good speeds, i ex...\n",
      "6    streaming videos and uploading content has nev...\n",
      "7    the new telecom product is fantastic, but the ...\n",
      "8    i was hesitant at first, but the setup process...\n",
      "9    i heavily rely on fast internet for my work, a...\n",
      "Name: feedback, dtype: object\n"
     ]
    }
   ],
   "source": [
    "import pandas as pd\n",
    "df = pd.read_csv('comment.csv')\n",
    "df['feedback'] = df['feedback'].str.lower()\n",
    "print(df['feedback'])"
   ]
  },
  {
   "cell_type": "markdown",
   "metadata": {},
   "source": [
    "<h1>Challenge 2: Handling special characters </h1> <br>\n",
    "The task is to remove the \"@\" symbol from the username column, cleaning the text data for further processing."
   ]
  },
  {
   "cell_type": "code",
   "execution_count": 10,
   "metadata": {},
   "outputs": [
    {
     "name": "stdout",
     "output_type": "stream",
     "text": [
      "0        TechEnthusiast\n",
      "1            GadgetGuru\n",
      "2        FrequentCaller\n",
      "3         BusinessOwner\n",
      "4          DigitalNomad\n",
      "5         ConcernedUser\n",
      "6     SocialMediaAddict\n",
      "7         BudgetShopper\n",
      "8            TechNovice\n",
      "9             PowerUser\n",
      "Name: username, dtype: object\n"
     ]
    }
   ],
   "source": [
    "from unidecode import unidecode\n",
    "import re\n",
    "df['username'] = df['username'].apply(lambda x: re.sub(r'@','', unidecode(x)))\n",
    "print(df['username'])"
   ]
  },
  {
   "cell_type": "markdown",
   "metadata": {},
   "source": [
    "<h1> Challenge 3: Punctuation removal </h1> <br>\n",
    "In the feedback column, punctuation marks are to be removed, helping to reduce noise in the data for better accuracy in analysis. This is achieved using pandas and the string module."
   ]
  },
  {
   "cell_type": "code",
   "execution_count": 11,
   "metadata": {},
   "outputs": [
    {
     "name": "stdout",
     "output_type": "stream",
     "text": [
      "0    the new telecom product offers amazing connect...\n",
      "1    the new telecom product is a gamechanger its m...\n",
      "2    ive noticed a significant improvement in call ...\n",
      "3    the new product has enhanced our business oper...\n",
      "4    as a digital nomad i rely on consistent intern...\n",
      "5    while the new product offers good speeds i exp...\n",
      "6    streaming videos and uploading content has nev...\n",
      "7    the new telecom product is fantastic but the p...\n",
      "8    i was hesitant at first but the setup process ...\n",
      "9    i heavily rely on fast internet for my work an...\n",
      "Name: feedback, dtype: object\n"
     ]
    }
   ],
   "source": [
    "import string\n",
    "def remove_punctual(text):\n",
    "    translator = str.maketrans('','',string.punctuation)\n",
    "    text = text.translate(translator)\n",
    "    return text\n",
    "\n",
    "df['feedback'] = df['feedback'].apply(remove_punctual)\n",
    "\n",
    "print(df['feedback'])"
   ]
  }
 ],
 "metadata": {
  "kernelspec": {
   "display_name": "venv",
   "language": "python",
   "name": "python3"
  },
  "language_info": {
   "codemirror_mode": {
    "name": "ipython",
    "version": 3
   },
   "file_extension": ".py",
   "mimetype": "text/x-python",
   "name": "python",
   "nbconvert_exporter": "python",
   "pygments_lexer": "ipython3",
   "version": "3.11.5"
  }
 },
 "nbformat": 4,
 "nbformat_minor": 2
}
