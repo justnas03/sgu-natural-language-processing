{
 "cells": [
  {
   "cell_type": "markdown",
   "metadata": {},
   "source": [
    "## Practice 20/9/2024 NLP"
   ]
  },
  {
   "cell_type": "markdown",
   "metadata": {},
   "source": [
    "Import Libraries: "
   ]
  },
  {
   "cell_type": "code",
   "execution_count": 29,
   "metadata": {},
   "outputs": [],
   "source": [
    "import spacy\n",
    "import nltk\n",
    "from nltk.corpus import stopwords\n",
    "import string\n",
    "from nltk.stem import PorterStemmer\n",
    "from nltk.stem import WordNetLemmatizer"
   ]
  },
  {
   "cell_type": "markdown",
   "metadata": {},
   "source": [
    "Download necessary NLTK"
   ]
  },
  {
   "cell_type": "code",
   "execution_count": 30,
   "metadata": {},
   "outputs": [],
   "source": [
    "# Download necessary NLTK resources run for one time\n",
    "# nltk.download('punkt')\n",
    "# nltk.download('stopwords')\n",
    "# nltk.download('wordnet')"
   ]
  },
  {
   "cell_type": "markdown",
   "metadata": {},
   "source": [
    "Load spaCy English model"
   ]
  },
  {
   "cell_type": "code",
   "execution_count": 31,
   "metadata": {},
   "outputs": [],
   "source": [
    "nlp = spacy.load('en_core_web_sm')"
   ]
  },
  {
   "cell_type": "markdown",
   "metadata": {},
   "source": [
    "Text input:\n"
   ]
  },
  {
   "cell_type": "code",
   "execution_count": 32,
   "metadata": {},
   "outputs": [],
   "source": [
    "doc = nlp(\"\"\"<p id=\"original-text\">\n",
    "Welcome to the world of Natural Language Processing (NLP)! \n",
    "This paragraph delves into the fascinating realm of text analysis, where we'll unravel the magic behind understanding & manipulating human language. Let's embark on a journey through an NLP pipeline, transforming raw text into structured insights. We'll encounter challenges like contractions (e.g., \"can't,\" \"wouldn't\"), possessives (\"Mary's cat,\" \"the company's profits\"), hyphenated words (\"state-of-the-art,\" \"well-being\"), and even emoticons (:-), 😉). Punctuation marks like commas, semicolons (;), and exclamation points (!) will also play a role. Brace yourselves for a captivating exploration of how machines decipher the intricacies of human communication! \n",
    "</p>\"\"\")"
   ]
  },
  {
   "cell_type": "markdown",
   "metadata": {},
   "source": [
    "Step 1: Sentence Segmentation"
   ]
  },
  {
   "cell_type": "code",
   "execution_count": 33,
   "metadata": {},
   "outputs": [
    {
     "name": "stdout",
     "output_type": "stream",
     "text": [
      "Sentence Segmentation:\n",
      "<p id=\"original-text\">\n",
      "Welcome to the world of Natural Language Processing (NLP)! \n",
      "\n",
      "This paragraph delves into the fascinating realm of text analysis, where we'll unravel the magic behind understanding & manipulating human language.\n",
      "Let's embark on a journey through an NLP pipeline, transforming raw text into structured insights.\n",
      "We'll encounter challenges like contractions (e.g., \"can't,\" \"wouldn't\"), possessives (\"Mary's cat,\" \"the company's profits\"), hyphenated words (\"state-of-the-art,\" \"well-being\"), and even emoticons (:-), 😉).\n",
      "Punctuation marks like commas, semicolons (;), and exclamation points (!) will also play a role.\n",
      "Brace yourselves for a captivating exploration of how machines decipher the intricacies of human communication! \n",
      "\n",
      "</p>\n",
      "Length of Step 1: 7\n"
     ]
    }
   ],
   "source": [
    "sentences = [sent.text for sent in doc.sents]\n",
    "print(\"Sentence Segmentation:\")\n",
    "for sentence in sentences:\n",
    "    print(sentence)\n",
    "\n",
    "step1_len = len(sentences)\n",
    "print(f\"Length of Step 1: {step1_len}\")"
   ]
  },
  {
   "cell_type": "markdown",
   "metadata": {},
   "source": [
    "Step 2: Tokenization"
   ]
  },
  {
   "cell_type": "code",
   "execution_count": 34,
   "metadata": {},
   "outputs": [
    {
     "name": "stdout",
     "output_type": "stream",
     "text": [
      "Tokenization:\n",
      "['<', 'p', 'id=\"original', '-', 'text', '\"', '>', '\\n', 'Welcome', 'to', 'the', 'world', 'of', 'Natural', 'Language', 'Processing', '(', 'NLP', ')', '!', '\\n', 'This', 'paragraph', 'delves', 'into', 'the', 'fascinating', 'realm', 'of', 'text', 'analysis', ',', 'where', 'we', \"'ll\", 'unravel', 'the', 'magic', 'behind', 'understanding', '&', 'manipulating', 'human', 'language', '.', 'Let', \"'s\", 'embark', 'on', 'a', 'journey', 'through', 'an', 'NLP', 'pipeline', ',', 'transforming', 'raw', 'text', 'into', 'structured', 'insights', '.', 'We', \"'ll\", 'encounter', 'challenges', 'like', 'contractions', '(', 'e.g.', ',', '\"', 'ca', \"n't\", ',', '\"', '\"', 'would', \"n't\", '\"', ')', ',', 'possessives', '(', '\"', 'Mary', \"'s\", 'cat', ',', '\"', '\"', 'the', 'company', \"'s\", 'profits', '\"', ')', ',', 'hyphenated', 'words', '(', '\"', 'state', '-', 'of', '-', 'the', '-', 'art', ',', '\"', '\"', 'well', '-', 'being', '\"', ')', ',', 'and', 'even', 'emoticons', '(', ':-)', ',', '😉', ')', '.', 'Punctuation', 'marks', 'like', 'commas', ',', 'semicolons', '(', ';)', ',', 'and', 'exclamation', 'points', '(', '!', ')', 'will', 'also', 'play', 'a', 'role', '.', 'Brace', 'yourselves', 'for', 'a', 'captivating', 'exploration', 'of', 'how', 'machines', 'decipher', 'the', 'intricacies', 'of', 'human', 'communication', '!', '\\n', '<', '/p', '>']\n",
      "Length of Step 2: 169\n"
     ]
    }
   ],
   "source": [
    "tokens = [tokens.text for tokens in doc]\n",
    "print(f\"Tokenization:\")\n",
    "print(tokens)\n",
    "\n",
    "step2_len = len(tokens)\n",
    "print(f\"Length of Step 2: {step2_len}\")"
   ]
  },
  {
   "cell_type": "markdown",
   "metadata": {},
   "source": [
    "Step 3: Text Normalization"
   ]
  },
  {
   "cell_type": "code",
   "execution_count": 35,
   "metadata": {},
   "outputs": [
    {
     "name": "stdout",
     "output_type": "stream",
     "text": [
      "['<', 'p', 'id=\"original', '-', 'text', '\"', '>', '\\n', 'welcome', 'to', 'the', 'world', 'of', 'natural', 'language', 'processing', '(', 'nlp', ')', '!', '\\n', 'this', 'paragraph', 'delves', 'into', 'the', 'fascinating', 'realm', 'of', 'text', 'analysis', ',', 'where', 'we', \"'ll\", 'unravel', 'the', 'magic', 'behind', 'understanding', '&', 'manipulating', 'human', 'language', '.', 'let', \"'s\", 'embark', 'on', 'a', 'journey', 'through', 'an', 'nlp', 'pipeline', ',', 'transforming', 'raw', 'text', 'into', 'structured', 'insights', '.', 'we', \"'ll\", 'encounter', 'challenges', 'like', 'contractions', '(', 'e.g.', ',', '\"', 'ca', \"n't\", ',', '\"', '\"', 'would', \"n't\", '\"', ')', ',', 'possessives', '(', '\"', 'mary', \"'s\", 'cat', ',', '\"', '\"', 'the', 'company', \"'s\", 'profits', '\"', ')', ',', 'hyphenated', 'words', '(', '\"', 'state', '-', 'of', '-', 'the', '-', 'art', ',', '\"', '\"', 'well', '-', 'being', '\"', ')', ',', 'and', 'even', 'emoticons', '(', ':-)', ',', '😉', ')', '.', 'punctuation', 'marks', 'like', 'commas', ',', 'semicolons', '(', ';)', ',', 'and', 'exclamation', 'points', '(', '!', ')', 'will', 'also', 'play', 'a', 'role', '.', 'brace', 'yourselves', 'for', 'a', 'captivating', 'exploration', 'of', 'how', 'machines', 'decipher', 'the', 'intricacies', 'of', 'human', 'communication', '!', '\\n', '<', '/p', '>']\n",
      "Length of Step 3: 169\n"
     ]
    }
   ],
   "source": [
    "normalized_tokens = [token.lower() for token in tokens]\n",
    "print(normalized_tokens)\n",
    "\n",
    "step3_len = len(normalized_tokens)\n",
    "print(f\"Length of Step 3: {step3_len}\")"
   ]
  },
  {
   "cell_type": "markdown",
   "metadata": {},
   "source": [
    "Step 4: Stopword Removal"
   ]
  },
  {
   "cell_type": "code",
   "execution_count": 45,
   "metadata": {},
   "outputs": [
    {
     "name": "stdout",
     "output_type": "stream",
     "text": [
      "['<', 'p', 'id=\"original', '-', 'text', '\"', '>', '\\n', 'welcome', 'world', 'natural', 'language', 'processing', '(', 'nlp', ')', '!', '\\n', 'paragraph', 'delves', 'fascinating', 'realm', 'text', 'analysis', ',', \"'ll\", 'unravel', 'magic', 'behind', 'understanding', '&', 'manipulating', 'human', 'language', '.', 'let', \"'s\", 'embark', 'journey', 'nlp', 'pipeline', ',', 'transforming', 'raw', 'text', 'structured', 'insights', '.', \"'ll\", 'encounter', 'challenges', 'like', 'contractions', '(', 'e.g.', ',', '\"', 'ca', \"n't\", ',', '\"', '\"', 'would', \"n't\", '\"', ')', ',', 'possessives', '(', '\"', 'mary', \"'s\", 'cat', ',', '\"', '\"', 'company', \"'s\", 'profits', '\"', ')', ',', 'hyphenated', 'words', '(', '\"', 'state', '-', '-', '-', 'art', ',', '\"', '\"', 'well', '-', '\"', ')', ',', 'even', 'emoticons', '(', ':-)', ',', '😉', ')', '.', 'punctuation', 'marks', 'like', 'commas', ',', 'semicolons', '(', ';)', ',', 'exclamation', 'points', '(', '!', ')', 'also', 'play', 'role', '.', 'brace', 'captivating', 'exploration', 'machines', 'decipher', 'intricacies', 'human', 'communication', '!', '\\n', '<', '/p', '>']\n",
      "Length of Step 3: 138\n"
     ]
    }
   ],
   "source": [
    "stop_w = set(stopwords.words('english'))\n",
    "stopwords_removed = [token for token in normalized_tokens if token not in stop_w]\n",
    "print(stopwords_removed)\n",
    "\n",
    "step4_len = len(stopwords_removed)\n",
    "print(f\"Length of Step 4: {step4_len}\")\n",
    "\n"
   ]
  },
  {
   "cell_type": "markdown",
   "metadata": {},
   "source": [
    "Step 5: Text cleaning"
   ]
  },
  {
   "cell_type": "code",
   "execution_count": 42,
   "metadata": {},
   "outputs": [
    {
     "name": "stdout",
     "output_type": "stream",
     "text": [
      "['', 'p', 'idoriginal', '', 'text', '', '', '\\n', 'welcome', 'world', 'natural', 'language', 'processing', '', 'nlp', '', '', '\\n', 'paragraph', 'delves', 'fascinating', 'realm', 'text', 'analysis', '', 'll', 'unravel', 'magic', 'behind', 'understanding', '', 'manipulating', 'human', 'language', '', 'let', 's', 'embark', 'journey', 'nlp', 'pipeline', '', 'transforming', 'raw', 'text', 'structured', 'insights', '', 'll', 'encounter', 'challenges', 'like', 'contractions', '', 'eg', '', '', 'ca', 'nt', '', '', '', 'would', 'nt', '', '', '', 'possessives', '', '', 'mary', 's', 'cat', '', '', '', 'company', 's', 'profits', '', '', '', 'hyphenated', 'words', '', '', 'state', '', '', '', 'art', '', '', '', 'well', '', '', '', '', 'even', 'emoticons', '', '', '', '😉', '', '', 'punctuation', 'marks', 'like', 'commas', '', 'semicolons', '', '', '', 'exclamation', 'points', '', '', '', 'also', 'play', 'role', '', 'brace', 'captivating', 'exploration', 'machines', 'decipher', 'intricacies', 'human', 'communication', '', '\\n', '', 'p', '']\n",
      "Length of Step 3: 138\n"
     ]
    }
   ],
   "source": [
    "translator = str.maketrans('', '', string.punctuation)\n",
    "cleaned_tokens = [token.translate(translator) for token in stopwords_removed]\n",
    "print(cleaned_tokens)\n",
    "\n",
    "step5_len = len(cleaned_tokens)\n",
    "print(f\"Length of Step 5: {step5_len}\")\n"
   ]
  },
  {
   "cell_type": "markdown",
   "metadata": {},
   "source": [
    "Step 6. Stemming and lemmatization"
   ]
  },
  {
   "cell_type": "code",
   "execution_count": 48,
   "metadata": {},
   "outputs": [
    {
     "name": "stdout",
     "output_type": "stream",
     "text": [
      "Stemmed: \n",
      "['', 'p', 'idorigin', '', 'text', '', '', '\\n', 'welcom', 'world', 'natur', 'languag', 'process', '', 'nlp', '', '', '\\n', 'paragraph', 'delv', 'fascin', 'realm', 'text', 'analysi', '', 'll', 'unravel', 'magic', 'behind', 'understand', '', 'manipul', 'human', 'languag', '', 'let', 's', 'embark', 'journey', 'nlp', 'pipelin', '', 'transform', 'raw', 'text', 'structur', 'insight', '', 'll', 'encount', 'challeng', 'like', 'contract', '', 'eg', '', '', 'ca', 'nt', '', '', '', 'would', 'nt', '', '', '', 'possess', '', '', 'mari', 's', 'cat', '', '', '', 'compani', 's', 'profit', '', '', '', 'hyphen', 'word', '', '', 'state', '', '', '', 'art', '', '', '', 'well', '', '', '', '', 'even', 'emoticon', '', '', '', '😉', '', '', 'punctuat', 'mark', 'like', 'comma', '', 'semicolon', '', '', '', 'exclam', 'point', '', '', '', 'also', 'play', 'role', '', 'brace', 'captiv', 'explor', 'machin', 'deciph', 'intricaci', 'human', 'commun', '', '\\n', '', 'p', '']\n",
      "Lemmatized: \n",
      "['', 'p', 'idoriginal', '', 'text', '', '', '\\n', 'welcome', 'world', 'natural', 'language', 'processing', '', 'nlp', '', '', '\\n', 'paragraph', 'delf', 'fascinating', 'realm', 'text', 'analysis', '', 'll', 'unravel', 'magic', 'behind', 'understanding', '', 'manipulating', 'human', 'language', '', 'let', 's', 'embark', 'journey', 'nlp', 'pipeline', '', 'transforming', 'raw', 'text', 'structured', 'insight', '', 'll', 'encounter', 'challenge', 'like', 'contraction', '', 'eg', '', '', 'ca', 'nt', '', '', '', 'would', 'nt', '', '', '', 'possessive', '', '', 'mary', 's', 'cat', '', '', '', 'company', 's', 'profit', '', '', '', 'hyphenated', 'word', '', '', 'state', '', '', '', 'art', '', '', '', 'well', '', '', '', '', 'even', 'emoticon', '', '', '', '😉', '', '', 'punctuation', 'mark', 'like', 'comma', '', 'semicolon', '', '', '', 'exclamation', 'point', '', '', '', 'also', 'play', 'role', '', 'brace', 'captivating', 'exploration', 'machine', 'decipher', 'intricacy', 'human', 'communication', '', '\\n', '', 'p', '']\n",
      "Stem Len = 138, Lemmatize = 138\n"
     ]
    }
   ],
   "source": [
    "steammer = PorterStemmer()\n",
    "steammed_tokens = [steammer.stem(token) for token in cleaned_tokens]\n",
    "print(\"Stemmed: \")\n",
    "print(steammed_tokens)\n",
    "\n",
    "\n",
    "\n",
    "lemmatizer = WordNetLemmatizer()\n",
    "lemmatized_tokens = [lemmatizer.lemmatize(token) for token in cleaned_tokens]\n",
    "print(\"Lemmatized: \")\n",
    "print(lemmatized_tokens)\n",
    "\n",
    "stem_len = len(steammed_tokens)\n",
    "lemma_len = len(lemmatized_tokens)\n",
    "\n",
    "print(f\"Stem Len = {stem_len}, Lemmatize = {lemma_len}\")\n",
    "\n"
   ]
  },
  {
   "cell_type": "markdown",
   "metadata": {},
   "source": [
    "Text Length Visualization:"
   ]
  },
  {
   "cell_type": "code",
   "execution_count": 56,
   "metadata": {},
   "outputs": [
    {
     "data": {
      "image/png": "[encoded data removed]",
      "text/plain": [
       "<Figure size 2000x600 with 1 Axes>"
      ]
     },
     "metadata": {},
     "output_type": "display_data"
    }
   ],
   "source": [
    "import matplotlib.pyplot as plt\n",
    "\n",
    "steps = ['Step 1: Sentence Segmentation', 'Step 2: Tokenization', 'Step 3: Text Normalization', 'Step 4: Stopword removal', 'Step 5: Text Cleaning', 'Step 6: Stemming', 'Step 6: Lemmatization']\n",
    "lengths = [step1_len, step2_len, step3_len, step4_len, step5_len, stem_len, lemma_len]\n",
    "\n",
    "plt.figure(figsize=(20, 6))\n",
    "plt.bar(steps, lengths, color='skyblue')\n",
    "plt.title('Text Length Visualization')\n",
    "plt.xlabel('Steps')\n",
    "plt.ylabel('Length')\n",
    "plt.grid(False)\n",
    "plt.show()"
   ]
  }
 ],
 "metadata": {
  "kernelspec": {
   "display_name": "venv",
   "language": "python",
   "name": "python3"
  },
  "language_info": {
   "codemirror_mode": {
    "name": "ipython",
    "version": 3
   },
   "file_extension": ".py",
   "mimetype": "text/x-python",
   "name": "python",
   "nbconvert_exporter": "python",
   "pygments_lexer": "ipython3",
   "version": "3.11.5"
  }
 },
 "nbformat": 4,
 "nbformat_minor": 2
}
