{
 "cells": [
  {
   "cell_type": "code",
   "execution_count": 1,
   "metadata": {},
   "outputs": [
    {
     "name": "stdout",
     "output_type": "stream",
     "text": [
      "Matching words: ['that', 'chat', 'cat', 'phat']\n"
     ]
    }
   ],
   "source": [
    "import re\n",
    "\n",
    "# Define a regex pattern to match words with \"c\" or \"h\" followed by \"a\" and \"t\"\n",
    "pattern = r\"[ch]at\"\n",
    "\n",
    "# List of words to test\n",
    "words = [\"that\", \"at\", \"chat\", \"cat\", \"fat\", \"phat\"]\n",
    "\n",
    "# Find and print words that match the pattern\n",
    "matching_words = [word for word in words if re.search(pattern, word)]\n",
    "\n",
    "print(\"Matching words:\", matching_words)"
   ]
  },
  {
   "cell_type": "code",
   "execution_count": 2,
   "metadata": {},
   "outputs": [
    {
     "name": "stdout",
     "output_type": "stream",
     "text": [
      "0     [The, laptop, s, battery, life, is, outstandin...\n",
      "1     [Terrible, customer, service, My, issue, wasn,...\n",
      "2     [Fast, shipping, but, the, packaging, was, dam...\n",
      "3     [I, love, the, sleek, design, of, the, phone, ...\n",
      "4     [The, software, is, buggy, and, crashes, frequ...\n",
      "5     [The, restaurant, ambiance, was, nice, but, th...\n",
      "6     [Absolutely, fantastic, headphones, Great, sou...\n",
      "7     [The, movie, was, a, complete, waste, of, time...\n",
      "8     [Bought, this, for, my, son, he, enjoys, it, a...\n",
      "9     [The, hotel, staff, was, extremely, friendly, ...\n",
      "10    [Poor, quality, fabric, not, worth, the, price...\n",
      "11    [Had, a, great, time, at, the, amusement, park...\n",
      "12    [The, app, interface, is, intuitive, and, easy...\n",
      "13    [The, concert, was, amazing, but, the, seating...\n",
      "14    [This, book, is, a, masterpiece, full, of, ins...\n",
      "15    [Received, a, defective, product, had, to, ret...\n",
      "16    [The, vacuum, cleaner, is, very, powerful, but...\n",
      "17    [Great, experience, at, the, car, dealership, ...\n",
      "18    [Not, happy, with, the, subscription, service,...\n",
      "19    [The, smartwatch, has, many, features, but, th...\n",
      "Name: tokens, dtype: object\n"
     ]
    }
   ],
   "source": [
    "import re  # Imports the 're' module, which provides support for regular expressions in Python. This will allow pattern matching and text manipulation.\n",
    "import pandas as pd  # Imports the 'pandas' library, which is essential for data manipulation, particularly with structured data like CSV files.\n",
    "\n",
    "df = pd.read_csv('reviews.csv')  # Reads a CSV file called 'reviews.csv' into a pandas DataFrame (df). Each row represents a review in the dataset. Ensure the CSV file is in the same directory or provide the full path to it.\n",
    "\n",
    "def tokenize_text(text):  # Defines a function called 'tokenize_text' that takes a text input (string).\n",
    "    return re.findall(r'\\w+', text)  # Uses 're.findall()' to match all sequences of word characters (letters, digits, and underscores) in the text. '\\w+' is the regex pattern used to find these sequences, treating them as tokens.\n",
    "\n",
    "df['tokens'] = df['review_text'].apply(tokenize_text)  # Applies the 'tokenize_text' function to each row of the 'review_text' column in the DataFrame, creating a new column 'tokens' that contains the list of tokens (words) for each review.\n",
    "\n",
    "print(df['tokens'])  # Prints the 'tokens' column from the DataFrame, which contains the tokenized version of each review."
   ]
  },
  {
   "cell_type": "code",
   "execution_count": 3,
   "metadata": {},
   "outputs": [
    {
     "name": "stdout",
     "output_type": "stream",
     "text": [
      "0     the laptop s battery life is outstanding lasti...\n",
      "1      terrible customer service my issue wasn t res...\n",
      "2     fast shipping but the packaging was damaged up...\n",
      "3     i love the sleek design of the phone it s ligh...\n",
      "4     the software is buggy and crashes frequently v...\n",
      "5     the restaurant ambiance was nice but the food ...\n",
      "6     absolutely fantastic headphones great sound qu...\n",
      "7     the movie was a complete waste of time plot wa...\n",
      "8     bought this for my son he enjoys it a lot very...\n",
      "9     the hotel staff was extremely friendly and acc...\n",
      "10    poor quality fabric not worth the price wouldn...\n",
      "11    had a great time at the amusement park the rid...\n",
      "12    the app interface is intuitive and easy to nav...\n",
      "13    the concert was amazing but the seating was to...\n",
      "14    this book is a masterpiece full of insightful ...\n",
      "15    received a defective product had to return it ...\n",
      "16    the vacuum cleaner is very powerful but quite ...\n",
      "17    great experience at the car dealership the sta...\n",
      "18    not happy with the subscription service too ma...\n",
      "19    the smartwatch has many features but the batte...\n",
      "Name: cleaned_text, dtype: object\n"
     ]
    }
   ],
   "source": [
    "import re  # Imports the 're' module for working with regular expressions, which are used for pattern matching and text manipulation.\n",
    "import pandas as pd  # Imports the 'pandas' library, which is used for data manipulation, especially for reading and working with structured data like CSV files.\n",
    "\n",
    "df = pd.read_csv('reviews.csv')  # Reads a CSV file called 'reviews.csv' into a pandas DataFrame (df). This file is expected to contain a column named 'review_text' with the reviews.\n",
    "\n",
    "def clean_text(text):  # Defines a function 'clean_text' that takes a string input (text).\n",
    "    # First, re.sub('[^0-9a-zA-Z]+', ' ', text.lower()) replaces any character that is not alphanumeric (a-z, A-Z, 0-9) with a space and converts the text to lowercase.\n",
    "    # Second, re.sub(' +', ' ', ...) ensures that multiple spaces are reduced to a single space.\n",
    "    cleaned_text = re.sub(' +', ' ', re.sub('[^0-9a-zA-Z]+', ' ', text.lower()))\n",
    "    return cleaned_text  # Returns the cleaned text.\n",
    "\n",
    "df['cleaned_text'] = df['review_text'].apply(clean_text)  # Applies the 'clean_text' function to each entry in the 'review_text' column and creates a new column called 'cleaned_text' with the cleaned version of the review.\n",
    "\n",
    "print(df['cleaned_text'])  # Prints the 'cleaned_text' column, which contains the processed, cleaned text from each review."
   ]
  },
  {
   "cell_type": "code",
   "execution_count": 15,
   "metadata": {},
   "outputs": [
    {
     "name": "stdout",
     "output_type": "stream",
     "text": [
      "{'ELECTRONIC DEVICE': [['laptop', 'battery'], [], [], ['phone'], [], [], ['phone'], [], [], [], [], [], [], [], [], [], [], [], [], ['battery']], 'LOCATION': [[], [], [], [], [], ['restaurant'], [], [], [], [], [], [], [], ['concert'], [], [], [], [], [], []]}\n"
     ]
    }
   ],
   "source": [
    "import re  # Imports the 're' module to work with regular expressions, which will be used to search for specific patterns in the text.\n",
    "import pandas as pd  # Imports the 'pandas' library for reading and manipulating structured data, particularly CSV files.\n",
    "\n",
    "df = pd.read_csv('reviews.csv')  # Reads the 'reviews.csv' file into a pandas DataFrame called 'df'. This file is expected to have a column 'review_text' containing text to analyze.\n",
    "\n",
    "# Define a dictionary 'patterns' where keys are entity types ('PERSON' and 'LOCATION') and values are regex patterns to match specific names and locations.\n",
    "patterns = {\n",
    "    'ELECTRONIC DEVICE': r'(laptop|battery|phone)', \n",
    "    'LOCATION': r'(restaurant|concert)'\n",
    "}\n",
    "\n",
    "named_entities = {}  # Initialize an empty dictionary to store the named entities found in the text.\n",
    "\n",
    "# Iterate through each entity type (PERSON, LOCATION) and its associated regex pattern.\n",
    "for entity, pattern in patterns.items():\n",
    "    # Define a function 'find_entities' that uses re.findall() to find all occurrences of the entity based on the regex pattern in the input text.\n",
    "    def find_entities(text):\n",
    "        return re.findall(pattern, text)\n",
    "    \n",
    "    # Apply the 'find_entities' function to the 'review_text' column in the DataFrame. \n",
    "    # This creates a new column (PERSON or LOCATION) in the DataFrame containing lists of matched entities for each review.\n",
    "    df[entity] = df['review_text'].apply(find_entities)\n",
    "    \n",
    "    # Add the found entities to the 'named_entities' dictionary, storing the lists from each column into the dictionary under the corresponding entity type.\n",
    "    named_entities[entity] = df[entity].tolist()\n",
    "\n",
    "# Print the 'named_entities' dictionary, which contains the extracted PERSON and LOCATION entities from the reviews.\n",
    "print(named_entities)"
   ]
  },
  {
   "cell_type": "code",
   "execution_count": 17,
   "metadata": {},
   "outputs": [
    {
     "name": "stdout",
     "output_type": "stream",
     "text": [
      "Dot metacharacter: 'a.p' [' app']\n",
      "\n",
      "Star metacharacter: 'fascinating.*' []\n",
      "\n",
      "Plus metacharacter: 'one.+' [\"one :) it's lightweight and powerful! The software is buggy @@ and crashes frequently... very disappointed :( The restaurant ambiance was nice :) but the food was mediocre *at best*. Absolutely fantastic headphones! Great sound quality and comfortable fit :D ^_^. The movie was a complete waste of time ~ plot was predictable and dull :|. Bought this for my son :) he enjoys it a lot, very kid-friendly! The hotel staff was extremely friendly :) and accommodating! #TopNotch Poor quality fabric, not worth the price :( Wouldn't recommend! Had a *great* time at the amusement park, the rides were thrilling :D! The app interface is ^intuitive^ and easy to navigate :). The concert was amazing, but the seating was too cramped :/ ~ could have been better. This book is a *masterpiece*, full of insightful thoughts and stories :D Received a defective product @@, had to return it immediately :( #Frustrating The vacuum cleaner is *very* powerful but quite noisy :/ Great experience at the car dealership :) the staff was very professional! ^_^ Not happy with the subscription service :( Too many ads! #Annoying The smartwatch has many features, but the battery drains too quickly :/ ~ could improve.\"]\n",
      "\n",
      "Question mark metacharacter: 'm.?' ['me', 'mu', 'ma', 'mb', 'me', 'mf', 'mo', 'mp', 'me', 'my', 'me', 'mm', 'mm', 'me', 'mu', 'me', 'ma', 'mp', 'ma', 'mm', 'm ', 'ma', 'ma', 'ma', 'mp']\n",
      "\n",
      "Pipe metacharacter: 'fox|dog' []\n"
     ]
    }
   ],
   "source": [
    "import re  # Imports the 're' module for working with regular expressions.\n",
    "import pandas as pd  # Imports the 'pandas' library for reading and manipulating structured data like CSV files.\n",
    "\n",
    "# Reads the 'reviews.csv' file into a pandas DataFrame called 'df'. This file should contain a column named 'review_text' with textual data.\n",
    "df = pd.read_csv('reviews.csv')\n",
    "\n",
    "# Joins all the text from the 'review_text' column into a single string, separating the reviews with spaces.\n",
    "text = \" \".join(df['review_text'])\n",
    "\n",
    "# Finds all occurrences of the pattern 'f.x', where 'f' is followed by any character (dot '.' matches any single character), and 'x' is the final character.\n",
    "result_dot = re.findall(r' a.p', text)\n",
    "\n",
    "# Finds all occurrences of 'fascinating' followed by zero or more characters ('.*' allows for matching any sequence of characters after 'fascinating').\n",
    "result_star = re.findall(r'fascinating.*', text)\n",
    "\n",
    "# Finds all occurrences of 'one' followed by one or more characters ('.+' ensures there is at least one character after 'one').\n",
    "result_plus = re.findall(r'one.+', text)\n",
    "\n",
    "# Finds all occurrences of the letter 'm' followed by zero or one character ('m.?' allows for 'm' followed by any single character or nothing at all).\n",
    "result_question = re.findall(r'm.?', text)\n",
    "\n",
    "# Finds all occurrences of either 'fox' or 'dog' in the text. The pipe '|' acts as an OR operator, matching either 'fox' or 'dog'.\n",
    "result_pipe = re.findall(r'fox|dog', text)\n",
    "\n",
    "# Prints the results for each regular expression search with a label to indicate which metacharacter was used.\n",
    "print(\"Dot metacharacter: 'a.p'\", result_dot) \n",
    "print(\"\\nStar metacharacter: 'fascinating.*'\", result_star) \n",
    "print(\"\\nPlus metacharacter: 'one.+'\", result_plus) \n",
    "print(\"\\nQuestion mark metacharacter: 'm.?'\", result_question)  \n",
    "print(\"\\nPipe metacharacter: 'fox|dog'\", result_pipe)  "
   ]
  },
  {
   "cell_type": "code",
   "execution_count": 11,
   "metadata": {},
   "outputs": [
    {
     "name": "stdout",
     "output_type": "stream",
     "text": [
      "Dot metacharacter: 'f.x' []\n",
      "\n",
      "Star metacharacter: 'fascinating.*' []\n",
      "\n",
      "Plus metacharacter: 'one.+' [\"one :) it's lightweight and powerful! The software is buggy @@ and crashes frequently... very disappointed :( The restaurant ambiance was nice :) but the food was mediocre *at best*. Absolutely fantastic headphones! Great sound quality and comfortable fit :D ^_^. The movie was a complete waste of time ~ plot was predictable and dull :|. Bought this for my son :) he enjoys it a lot, very kid-friendly! The hotel staff was extremely friendly :) and accommodating! #TopNotch Poor quality fabric, not worth the price :( Wouldn't recommend! Had a *great* time at the amusement park, the rides were thrilling :D! The app interface is ^intuitive^ and easy to navigate :). The concert was amazing, but the seating was too cramped :/ ~ could have been better. This book is a *masterpiece*, full of insightful thoughts and stories :D Received a defective product @@, had to return it immediately :( #Frustrating The vacuum cleaner is *very* powerful but quite noisy :/ Great experience at the car dealership :) the staff was very professional! ^_^ Not happy with the subscription service :( Too many ads! #Annoying The smartwatch has many features, but the battery drains too quickly :/ ~ could improve.\"]\n",
      "\n",
      "Question mark metacharacter: 'm.?' ['me', 'mu', 'ma', 'mb', 'me', 'mf', 'mo', 'mp', 'me', 'my', 'me', 'mm', 'mm', 'me', 'mu', 'me', 'ma', 'mp', 'ma', 'mm', 'm ', 'ma', 'ma', 'ma', 'mp']\n",
      "\n",
      "Pipe metacharacter: 'fox|dog' []\n"
     ]
    }
   ],
   "source": [
    "import re  # Imports the 're' module for working with regular expressions.\n",
    "import pandas as pd  # Imports the 'pandas' library for reading and manipulating structured data like CSV files.\n",
    "\n",
    "# Reads the 'reviews.csv' file into a pandas DataFrame called 'df'. This file should contain a column named 'review_text' with textual data.\n",
    "df = pd.read_csv('reviews.csv')\n",
    "\n",
    "# Joins all the text from the 'review_text' column into a single string, separating the reviews with spaces.\n",
    "text = \" \".join(df['review_text'])\n",
    "\n",
    "# Finds all occurrences of the pattern 'f.x', where 'f' is followed by any character (dot '.' matches any single character), and 'x' is the final character.\n",
    "result_dot = re.findall(r'f.x', text)\n",
    "\n",
    "# Finds all occurrences of 'fascinating' followed by zero or more characters ('.*' allows for matching any sequence of characters after 'fascinating').\n",
    "result_star = re.findall(r'fascinating.*', text)\n",
    "\n",
    "# Finds all occurrences of 'one' followed by one or more characters ('.+' ensures there is at least one character after 'one').\n",
    "result_plus = re.findall(r'one.+', text)\n",
    "\n",
    "# Finds all occurrences of the letter 'm' followed by zero or one character ('m.?' allows for 'm' followed by any single character or nothing at all).\n",
    "result_question = re.findall(r'm.?', text)\n",
    "\n",
    "# Finds all occurrences of either 'fox' or 'dog' in the text. The pipe '|' acts as an OR operator, matching either 'fox' or 'dog'.\n",
    "result_pipe = re.findall(r'fox|dog', text)\n",
    "\n",
    "# Prints the results for each regular expression search with a label to indicate which metacharacter was used.\n",
    "print(\"Dot metacharacter: 'f.x'\", result_dot) \n",
    "print(\"\\nStar metacharacter: 'fascinating.*'\", result_star) \n",
    "print(\"\\nPlus metacharacter: 'one.+'\", result_plus) \n",
    "print(\"\\nQuestion mark metacharacter: 'm.?'\", result_question)  \n",
    "print(\"\\nPipe metacharacter: 'fox|dog'\", result_pipe)  "
   ]
  },
  {
   "cell_type": "code",
   "execution_count": 12,
   "metadata": {},
   "outputs": [
    {
     "name": "stdout",
     "output_type": "stream",
     "text": [
      "Dot quantifier: 't..t'\n",
      " ['tast', 'th t', 't* t', 'tuit', 'trat', 'th t', 'twat']\n",
      "\n",
      "Star quantifier: 't[a-z]*t'\n",
      " ['tt', 'tst', 'tweight', 'taurant', 'tast', 'tuit', 'tt', 'thought', 'trat', 'twat', 'tt']\n",
      "\n",
      "Plus quantifier: 'P[a-z]+'\n",
      " ['Poor']\n",
      "\n",
      "Question mark quantifier: 'regexp?'\n",
      " []\n",
      "\n",
      "{n} quantifier: '[a-zA-Z]{5}'\n",
      " ['hours', 'issue', 'after', 'calls', 'sleek', 'phone', 'buggy', 'Great', 'sound', 'movie', 'waste', 'hotel', 'staff', 'worth', 'price', 'great', 'rides', 'could', 'quite', 'noisy', 'Great', 'staff', 'happy', 'could']\n",
      "\n",
      "{n,} quantifier: '[a-zA-Z]{3,}'\n",
      " ['The', 'laptop', 'battery', 'life', 'outstanding', 'lasting', 'over', 'hours', 'Terrible', 'customer', 'service', 'issue', 'wasn', 'resolved', 'after', 'multiple', 'calls', 'Fast', 'shipping', 'but', 'the', 'packaging', 'was', 'damaged', 'upon', 'arrival', 'Disappointing', 'love', 'the', 'sleek', 'design', 'the', 'phone', 'lightweight', 'and', 'powerful', 'The', 'software', 'buggy', 'and', 'crashes', 'frequently', 'very', 'disappointed', 'The', 'restaurant', 'ambiance', 'was', 'nice', 'but', 'the', 'food', 'was', 'mediocre', 'best', 'Absolutely', 'fantastic', 'headphones', 'Great', 'sound', 'quality', 'and', 'comfortable', 'fit', 'The', 'movie', 'was', 'complete', 'waste', 'time', 'plot', 'was', 'predictable', 'and', 'dull', 'Bought', 'this', 'for', 'son', 'enjoys', 'lot', 'very', 'kid', 'friendly', 'The', 'hotel', 'staff', 'was', 'extremely', 'friendly', 'and', 'accommodating', 'TopNotch', 'Poor', 'quality', 'fabric', 'not', 'worth', 'the', 'price', 'Wouldn', 'recommend', 'Had', 'great', 'time', 'the', 'amusement', 'park', 'the', 'rides', 'were', 'thrilling', 'The', 'app', 'interface', 'intuitive', 'and', 'easy', 'navigate', 'The', 'concert', 'was', 'amazing', 'but', 'the', 'seating', 'was', 'too', 'cramped', 'could', 'have', 'been', 'better', 'This', 'book', 'masterpiece', 'full', 'insightful', 'thoughts', 'and', 'stories', 'Received', 'defective', 'product', 'had', 'return', 'immediately', 'Frustrating', 'The', 'vacuum', 'cleaner', 'very', 'powerful', 'but', 'quite', 'noisy', 'Great', 'experience', 'the', 'car', 'dealership', 'the', 'staff', 'was', 'very', 'professional', 'Not', 'happy', 'with', 'the', 'subscription', 'service', 'Too', 'many', 'ads', 'Annoying', 'The', 'smartwatch', 'has', 'many', 'features', 'but', 'the', 'battery', 'drains', 'too', 'quickly', 'could', 'improve']\n",
      "\n",
      "{,m} quantifier: '[a-zA-Z]{,4}'\n",
      " ['The', '', '', '', 's', '', '', '', 'life', '', 'is', '', '', '', '', '', 'over', '', '', '', '', '', 'D', '', '', '', '', '', '', '', 'My', '', '', '', 'wasn', '', 't', '', '', '', '', '', '', '', '', '', 'Fast', '', '', '', 'but', '', 'the', '', '', '', 'was', '', '', '', 'upon', '', '', '', '', '', 'I', '', 'love', '', 'the', '', '', '', '', '', 'of', '', 'the', '', '', '', 'it', '', 's', '', '', '', 'and', '', '', '', 'The', '', '', '', 'is', '', '', '', 'and', '', '', '', '', '', 'very', '', '', '', 'The', '', '', '', '', '', 'was', '', 'nice', '', 'but', '', 'the', '', 'food', '', 'was', '', '', '', 'at', '', 'best', '', '', '', '', '', '', '', '', '', '', '', '', '', 'and', '', '', '', 'fit', '', 'D', '', '', '', 'The', '', '', '', 'was', '', 'a', '', '', '', '', '', 'of', '', 'time', '', 'plot', '', 'was', '', '', '', 'and', '', 'dull', '', '', '', 'this', '', 'for', '', 'my', '', 'son', '', 'he', '', '', '', 'it', '', 'a', '', 'lot', '', 'very', '', 'kid', '', '', '', 'The', '', '', '', '', '', 'was', '', '', '', '', '', 'and', '', '', '', '', '', 'Poor', '', '', '', '', '', 'not', '', '', '', 'the', '', '', '', '', '', 't', '', '', '', 'Had', '', 'a', '', '', '', 'time', '', 'at', '', 'the', '', '', '', 'park', '', 'the', '', '', '', 'were', '', '', '', 'D', '', 'The', '', 'app', '', '', '', 'is', '', '', '', 'and', '', 'easy', '', 'to', '', '', '', 'The', '', '', '', 'was', '', '', '', 'but', '', 'the', '', '', '', 'was', '', 'too', '', '', '', '', '', 'have', '', 'been', '', '', '', 'This', '', 'book', '', 'is', '', 'a', '', '', '', 'full', '', 'of', '', '', '', '', '', 'and', '', '', '', 'D', '', '', '', 'a', '', '', '', '', '', 'had', '', 'to', '', '', '', 'it', '', '', '', '', '', 'The', '', '', '', '', '', 'is', '', 'very', '', '', '', 'but', '', '', '', '', '', '', '', '', '', 'at', '', 'the', '', 'car', '', '', '', 'the', '', '', '', 'was', '', 'very', '', '', '', '', '', 'Not', '', '', '', 'with', '', 'the', '', '', '', '', '', 'Too', '', 'many', '', 'ads', '', '', '', 'The', '', '', '', 'has', '', 'many', '', '', '', 'but', '', 'the', '', '', '', '', '', 'too', '', '', '', '', '', '', '']\n",
      "\n",
      "{n,m} quantifier: 's[a-zA-Z]{1,5}'\n",
      " ['sleek', 'sound', 'son', 'staff', 'staff']\n"
     ]
    }
   ],
   "source": [
    "import re  # Imports the 're' module for working with regular expressions.\n",
    "import pandas as pd  # Imports the 'pandas' library for reading and manipulating structured data like CSV files.\n",
    "\n",
    "# Reads the 'reviews.csv' file into a pandas DataFrame called 'df'. This file should contain a column named 'review_text' with textual data.\n",
    "df = pd.read_csv('reviews.csv')\n",
    "\n",
    "# Joins all the text from the 'review_text' column into a single string, separating the reviews with spaces.\n",
    "text = \" \".join(df['review_text'])\n",
    "\n",
    "# Matches any sequence where 't' is followed by any two characters and then another 't'. This matches patterns like 'test', 'text', etc.\n",
    "result_dot = re.findall(r't..t', text)\n",
    "\n",
    "# Matches sequences starting with 't', followed by zero or more lowercase letters (a-z), and ending with 't'. This matches patterns like 'test', 'text', 'tart', etc.\n",
    "result_star = re.findall(r't[a-z]*t', text)\n",
    "\n",
    "# Matches sequences that start with 'P', followed by one or more lowercase letters. This matches patterns like 'Python', 'Program', etc.\n",
    "result_plus = re.findall(r'P[a-z]+', text)\n",
    "\n",
    "# Matches the literal string 'regexp?' where 'p' is optional (i.e., zero or one occurrence). This would match both 'regex' and 'regexp'.\n",
    "result_question = re.findall(r'regexp\\?', text)\n",
    "\n",
    "# Matches any word boundary (`\\b`) followed by exactly 5 alphabetic characters (both lowercase and uppercase). This matches words like 'hello', 'world', etc.\n",
    "result_n = re.findall(r'\\b[a-zA-Z]{5}\\b', text)\n",
    "\n",
    "# Matches words that are at least 3 characters long, starting and ending with word boundaries (`\\b`). This matches words with 3 or more characters.\n",
    "result_n_min = re.findall(r'\\b[a-zA-Z]{3,}\\b', text)\n",
    "\n",
    "# Matches words that are up to 4 characters long, defined by word boundaries (`\\b`). This matches words with a maximum of 4 characters.\n",
    "result_m_max = re.findall(r'\\b[a-zA-Z]{,4}\\b', text)\n",
    "\n",
    "# Matches words that start with 's' and are followed by 1 to 5 alphabetic characters, again defined by word boundaries. This matches words like 'save', 'smart', etc.\n",
    "result_n_m = re.findall(r'\\bs[a-zA-Z]{1,5}\\b', text)\n",
    "\n",
    "# Print the results for each regular expression search with an explanation of the quantifier used.\n",
    "print(\"Dot quantifier: 't..t'\\n\", result_dot)  # Prints the words matching the dot quantifier pattern 't..t'\n",
    "print(\"\\nStar quantifier: 't[a-z]*t'\\n\", result_star)  # Prints the words matching the star quantifier pattern 't[a-z]*t'\n",
    "print(\"\\nPlus quantifier: 'P[a-z]+'\\n\", result_plus)  # Prints the words matching the plus quantifier pattern 'P[a-z]+'\n",
    "print(\"\\nQuestion mark quantifier: 'regexp?'\\n\", result_question)  # Prints the words matching the question mark quantifier pattern 'regexp?'\n",
    "print(\"\\n{n} quantifier: '[a-zA-Z]{5}'\\n\", result_n)  # Prints the words matching exactly 5 characters using the '{n}' quantifier.\n",
    "print(\"\\n{n,} quantifier: '[a-zA-Z]{3,}'\\n\", result_n_min)  # Prints the words with at least 3 characters using the '{n,}' quantifier.\n",
    "print(\"\\n{,m} quantifier: '[a-zA-Z]{,4}'\\n\", result_m_max)  # Prints the words with at most 4 characters using the '{,m}' quantifier.\n",
    "print(\"\\n{n,m} quantifier: 's[a-zA-Z]{1,5}'\\n\", result_n_m)  # Prints the words starting with 's' and with 1 to 5 characters using the '{n,m}' quantifier."
   ]
  },
  {
   "cell_type": "code",
   "execution_count": 13,
   "metadata": {},
   "outputs": [
    {
     "name": "stdout",
     "output_type": "stream",
     "text": [
      "Non-digits count: 1454\n",
      "Digits count: 2\n",
      "Non-words count: 341\n",
      "Words count: 1115\n",
      "Spaces count: 240\n"
     ]
    }
   ],
   "source": [
    "import re  # Imports the 're' module to work with regular expressions.\n",
    "import pandas as pd  # Imports the 'pandas' library for reading and manipulating structured data like CSV files.\n",
    "\n",
    "# Reads the 'reviews.csv' file into a pandas DataFrame called 'df'. This file should contain a column 'review_text' that includes the text data.\n",
    "df = pd.read_csv('reviews.csv')\n",
    "\n",
    "# Joins all the text from the 'review_text' column into a single string, separating the reviews with spaces.\n",
    "text = \" \".join(df['review_text'])\n",
    "\n",
    "# Uses the \\D shorthand class to match non-digit characters in the text. The re.findall() function returns a list of all non-digits, and len() counts the total.\n",
    "non_digits_count = len(re.findall(\"\\D\", text))\n",
    "\n",
    "# Uses the \\d shorthand class to match all digits in the text. The re.findall() function returns a list of all digits, and len() counts the total.\n",
    "digits_count = len(re.findall(\"\\d\", text))\n",
    "\n",
    "# Uses the \\W shorthand class to match all non-word characters (anything that is not alphanumeric, such as punctuation). len() counts the total non-word characters.\n",
    "non_words_count = len(re.findall(\"\\W\", text))\n",
    "\n",
    "# Uses the \\w shorthand class to match all word characters (alphanumeric and underscores). len() counts the total word characters.\n",
    "words_count = len(re.findall(\"\\w\", text))\n",
    "\n",
    "# Uses the \\s shorthand class to match all whitespace characters (spaces, tabs, newlines). len() counts the total whitespace characters.\n",
    "spaces_count = len(re.findall(\"\\s\", text))\n",
    "\n",
    "# Prints the count of non-digit characters (anything that isn't a number).\n",
    "print(\"Non-digits count:\", non_digits_count)\n",
    "\n",
    "# Prints the count of digits (numbers) in the text.\n",
    "print(\"Digits count:\", digits_count)\n",
    "\n",
    "# Prints the count of non-word characters (e.g., punctuation marks, symbols).\n",
    "print(\"Non-words count:\", non_words_count)\n",
    "\n",
    "# Prints the count of word characters (letters, digits, and underscores).\n",
    "print(\"Words count:\", words_count)\n",
    "\n",
    "# Prints the count of spaces (whitespace) in the text.\n",
    "print(\"Spaces count:\", spaces_count)"
   ]
  },
  {
   "cell_type": "code",
   "execution_count": 14,
   "metadata": {},
   "outputs": [
    {
     "name": "stdout",
     "output_type": "stream",
     "text": [
      "Capturing group result 1: None\n"
     ]
    },
    {
     "ename": "AttributeError",
     "evalue": "'NoneType' object has no attribute 'group'",
     "output_type": "error",
     "traceback": [
      "\u001b[0;31m---------------------------------------------------------------------------\u001b[0m",
      "\u001b[0;31mAttributeError\u001b[0m                            Traceback (most recent call last)",
      "Cell \u001b[0;32mIn[14], line 32\u001b[0m\n\u001b[1;32m     29\u001b[0m \u001b[38;5;28mprint\u001b[39m(\u001b[38;5;124m\"\u001b[39m\u001b[38;5;124mCapturing group result 1:\u001b[39m\u001b[38;5;124m\"\u001b[39m, cat_match)\n\u001b[1;32m     31\u001b[0m \u001b[38;5;66;03m# Extracts and prints the captured group (cat's name) from 'cat_match' using the group() function.\u001b[39;00m\n\u001b[0;32m---> 32\u001b[0m \u001b[38;5;28mprint\u001b[39m(\u001b[38;5;124mf\u001b[39m\u001b[38;5;124m\"\u001b[39m\u001b[38;5;124mJohn\u001b[39m\u001b[38;5;124m'\u001b[39m\u001b[38;5;124ms cat\u001b[39m\u001b[38;5;124m'\u001b[39m\u001b[38;5;124ms name is \u001b[39m\u001b[38;5;132;01m{\u001b[39;00mcat_match\u001b[38;5;241m.\u001b[39mgroup(\u001b[38;5;241m1\u001b[39m)\u001b[38;5;132;01m}\u001b[39;00m\u001b[38;5;130;01m\\n\u001b[39;00m\u001b[38;5;124m\"\u001b[39m)\n\u001b[1;32m     34\u001b[0m \u001b[38;5;66;03m# Prints the result of the capturing group for the dog's name match.\u001b[39;00m\n\u001b[1;32m     35\u001b[0m \u001b[38;5;28mprint\u001b[39m(\u001b[38;5;124m\"\u001b[39m\u001b[38;5;124mCapturing group result 2:\u001b[39m\u001b[38;5;124m\"\u001b[39m, dog_match)\n",
      "\u001b[0;31mAttributeError\u001b[0m: 'NoneType' object has no attribute 'group'"
     ]
    }
   ],
   "source": [
    "import re  # Imports the 're' module for working with regular expressions.\n",
    "import pandas as pd  # Imports the 'pandas' library for reading and manipulating structured data like CSV files.\n",
    "\n",
    "# Reads the 'reviews.csv' file into a pandas DataFrame called 'df'. The 'review_text' column is expected to contain the text to be analyzed.\n",
    "df = pd.read_csv('reviews.csv')\n",
    "\n",
    "# Joins all the text from the 'review_text' column into a single string, separating each review with a newline character (\\n).\n",
    "text = \"\\n\".join(df['review_text'])\n",
    "\n",
    "# Compiles a regular expression that looks for the phrase \"cat named\" followed by a word (\\w+), capturing the name of the cat.\n",
    "cat_regex = re.compile(r\"cat named (\\w+)\")\n",
    "\n",
    "# Searches the text for the first occurrence of \"cat named\" followed by a word, and stores the match in 'cat_match'.\n",
    "cat_match = cat_regex.search(text)\n",
    "\n",
    "# Compiles a regular expression that looks for the phrase \"dog named\" followed by a word (\\w+), capturing the name of the dog.\n",
    "dog_regex = re.compile(r\"dog named (\\w+)\")\n",
    "\n",
    "# Searches the text for the first occurrence of \"dog named\" followed by a word, and stores the match in 'dog_match'.\n",
    "dog_match = dog_regex.search(text)\n",
    "\n",
    "# Compiles a regular expression to search for \"black\" or \"brown and white\", using a non-capturing group (?:) to group the colors without storing the match.\n",
    "color_regex = re.compile(r\"(?:black|brown and white)\")\n",
    "\n",
    "# Finds all occurrences of \"black\" or \"brown and white\" in the text and stores them in 'color_matches' as a list.\n",
    "color_matches = color_regex.findall(text)\n",
    "\n",
    "# Prints the result of the capturing group for the cat's name match.\n",
    "print(\"Capturing group result 1:\", cat_match)\n",
    "\n",
    "# Extracts and prints the captured group (cat's name) from 'cat_match' using the group() function.\n",
    "print(f\"John's cat's name is {cat_match.group(1)}\\n\")\n",
    "\n",
    "# Prints the result of the capturing group for the dog's name match.\n",
    "print(\"Capturing group result 2:\", dog_match)\n",
    "\n",
    "# Extracts and prints the captured group (dog's name) from 'dog_match' using the group() function.\n",
    "print(f\"John's dog's name is {dog_match.group(1)}\\n\")\n",
    "\n",
    "# Prints the result of the non-capturing group, which contains all matches of the color patterns in the text.\n",
    "print(\"Non-capturing group result:\", color_matches)\n",
    "\n",
    "# Joins the color matches into a string and prints them as a list of colors found in the text.\n",
    "print(f\"The colors of John's pets are: {', '.join(color_matches)}\")"
   ]
  },
  {
   "cell_type": "code",
   "execution_count": null,
   "metadata": {},
   "outputs": [],
   "source": []
  }
 ],
 "metadata": {
  "kernelspec": {
   "display_name": "llm",
   "language": "python",
   "name": "python3"
  },
  "language_info": {
   "codemirror_mode": {
    "name": "ipython",
    "version": 3
   },
   "file_extension": ".py",
   "mimetype": "text/x-python",
   "name": "python",
   "nbconvert_exporter": "python",
   "pygments_lexer": "ipython3",
   "version": "3.10.13"
  }
 },
 "nbformat": 4,
 "nbformat_minor": 2
}
